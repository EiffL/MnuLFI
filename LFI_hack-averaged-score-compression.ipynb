{
 "cells": [
  {
   "cell_type": "markdown",
   "metadata": {},
   "source": [
    "# Score compression of pre-compressed (mean of batches) data with susequent neural density estimation"
   ]
  },
  {
   "cell_type": "code",
   "execution_count": 1,
   "metadata": {},
   "outputs": [],
   "source": [
    "import numpy as np\n",
    "import sys\n",
    "# load your pydelfi version here (not necessary to include path if you have pip installed)\n",
    "sys.path.append(\"/home/nessa/Documents/Projects/pydelfi/\") \n",
    "import ndes.ndes as ndes\n",
    "import delfi.delfi as delfi\n",
    "import compression.score.score as score\n",
    "import distributions.priors as priors\n",
    "import tensorflow as tf\n",
    "tf.logging.set_verbosity(tf.logging.ERROR)\n",
    "%matplotlib inline"
   ]
  },
  {
   "cell_type": "markdown",
   "metadata": {},
   "source": [
    "### load the data"
   ]
  },
  {
   "cell_type": "code",
   "execution_count": 2,
   "metadata": {},
   "outputs": [],
   "source": [
    "# load Jia's data (note that order of params is not the same as data_sim)\n",
    "fn       = np.loadtxt('./data/MassiveNuS_params.txt',usecols=[0],dtype=np.str)\n",
    "params   = np.loadtxt('./data/MassiveNuS_params.txt',usecols=[1,2,3])## M_nu,Omega_m,A_s*1e9\n",
    "data_sim = np.array([np.load('./data/%s_Peaks_KN_s2.00_z1.00_ng40.00_b050.npy'%(ifn))[2:] for ifn in fn])"
   ]
  },
  {
   "cell_type": "code",
   "execution_count": 3,
   "metadata": {},
   "outputs": [],
   "source": [
    "# get parameters in correct order\n",
    "\n",
    "def paramsFromName(fn):\n",
    "    Om=float(fn.split('Om')[1].split('_')[0])\n",
    "    As=float(fn.split('As')[1].split('_')[0])\n",
    "    mnv=float(fn.split('mva')[1].split('_')[0])\n",
    "    mnv+=float(fn.split('mvb')[1].split('_')[0])\n",
    "    mnv+=float(fn.split('mvc')[1].split('_')[0])\n",
    "    return mnv,Om,As\n",
    "\n",
    "\n",
    "PARAMS = [paramsFromName(f) for f in fn]"
   ]
  },
  {
   "cell_type": "code",
   "execution_count": 4,
   "metadata": {},
   "outputs": [
    {
     "name": "stdout",
     "output_type": "stream",
     "text": [
      "(101, 3)\n",
      "(101, 9999, 50)\n",
      "101 9999\n"
     ]
    }
   ],
   "source": [
    "# 101 cosmologies\n",
    "print(params.shape)\n",
    "num_c = params.shape[0]\n",
    "# 9999 sims per comsology\n",
    "print(data_sim.shape)\n",
    "num_sims = data_sim.shape[1]\n",
    "print(num_c,num_sims)"
   ]
  },
  {
   "cell_type": "code",
   "execution_count": 5,
   "metadata": {},
   "outputs": [
    {
     "name": "stdout",
     "output_type": "stream",
     "text": [
      "[0.1 0.3 2.1]\n"
     ]
    }
   ],
   "source": [
    "# fiducial parameters (for compression)\n",
    "index = 51\n",
    "theta_fiducial = params[index]\n",
    "print(theta_fiducial)\n"
   ]
  },
  {
   "cell_type": "code",
   "execution_count": 6,
   "metadata": {},
   "outputs": [],
   "source": [
    "# bin centers of peak count bins\n",
    "bin_centers = np.linspace(-1.92,5.92, 50)\n",
    "# normalization factor\n",
    "dk = 0.00126899073531"
   ]
  },
  {
   "cell_type": "code",
   "execution_count": 7,
   "metadata": {},
   "outputs": [
    {
     "data": {
      "text/plain": [
       "array([ 0.,  0.,  1.,  0.,  0.,  2.,  1.,  3.,  4.,  1., 10., 16., 12.,\n",
       "       21., 20., 27., 38., 47., 49., 36., 26., 27., 20., 31., 24., 27.,\n",
       "       22., 15.,  8., 18., 10.,  5.,  5.,  3.,  4.,  2.,  1.,  0.,  1.,\n",
       "        0.,  0.,  0.,  0.,  0.,  0.,  0.,  0.,  0.,  0.,  0.])"
      ]
     },
     "execution_count": 7,
     "metadata": {},
     "output_type": "execute_result"
    }
   ],
   "source": [
    "data_sim[0,0]*dk"
   ]
  },
  {
   "cell_type": "markdown",
   "metadata": {},
   "source": [
    "### Precompression"
   ]
  },
  {
   "cell_type": "code",
   "execution_count": 8,
   "metadata": {},
   "outputs": [
    {
     "data": {
      "text/plain": [
       "(101, 99, 50)"
      ]
     },
     "execution_count": 8,
     "metadata": {},
     "output_type": "execute_result"
    }
   ],
   "source": [
    "#this is a precompression step, which can be replaced or not done. If we do it, we need to also redefine the covariance, accordingly\n",
    "#Here, I average over batches of sims \n",
    "\n",
    "averaged_all   = np.zeros((num_c,np.int(num_sims/101),50))\n",
    "for ii in range(num_c):\n",
    "    for jj in range(np.int(num_sims/101)):\n",
    "        averaged_all[ii,jj]=np.mean(data_sim[ii,jj*101:(jj+1)*101,:],axis=0)\n",
    "    \n",
    "averaged_all.shape"
   ]
  },
  {
   "cell_type": "code",
   "execution_count": 9,
   "metadata": {},
   "outputs": [
    {
     "name": "stdout",
     "output_type": "stream",
     "text": [
      "[2.34067669e+01 7.80225562e+01 1.87254135e+02 2.41869924e+02\n",
      " 4.36926315e+02 6.31982705e+02 1.08451353e+03 1.89594812e+03\n",
      " 2.59034887e+03 3.63585112e+03 5.97652781e+03 7.26389998e+03\n",
      " 9.86985336e+03 1.28113037e+04 1.58697879e+04 1.81558488e+04\n",
      " 2.07930112e+04 2.31805015e+04 2.44054556e+04 2.61687654e+04\n",
      " 2.67461323e+04 2.70504202e+04 2.69177819e+04 2.49282067e+04\n",
      " 2.24861007e+04 1.94276165e+04 1.66344090e+04 1.43249413e+04\n",
      " 1.24836090e+04 9.71380825e+03 7.13906389e+03 5.38355638e+03\n",
      " 4.22102029e+03 3.40178345e+03 2.35628120e+03 1.78671654e+03\n",
      " 1.28737218e+03 7.49016540e+02 6.24180450e+02 3.97915037e+02\n",
      " 3.66706014e+02 1.71649624e+02 1.71649624e+02 6.24180450e+01\n",
      " 7.80225562e+01 4.68135337e+01 3.90112781e+01 1.56045112e+01\n",
      " 1.56045112e+01 7.80225562e+00]\n"
     ]
    }
   ],
   "source": [
    "print(averaged_all[0,-1])"
   ]
  },
  {
   "cell_type": "markdown",
   "metadata": {},
   "source": [
    "### Covariance Matrix"
   ]
  },
  {
   "cell_type": "code",
   "execution_count": 10,
   "metadata": {},
   "outputs": [],
   "source": [
    "realizations_4_cov = np.load('./data/Peaks_KN_s2.00_z1.00_ng40.00_b050.npy')\n",
    "#take away last two sims of covariance, so that it we can do averaging over same batch sizes as for data\n",
    "realizations_4_cov = realizations_4_cov[:-2,:]\n",
    "assert(realizations_4_cov.shape==data_sim[0].shape)"
   ]
  },
  {
   "cell_type": "code",
   "execution_count": 11,
   "metadata": {},
   "outputs": [
    {
     "name": "stdout",
     "output_type": "stream",
     "text": [
      "(99, 50)\n"
     ]
    }
   ],
   "source": [
    "\n",
    "# average covariance sims in the same way as data\n",
    "cov_sims =[]\n",
    "for jj in range(np.int((realizations_4_cov.shape[0])/101)):\n",
    "    cov_sims+=[np.mean(realizations_4_cov[jj*101:(jj+1)*101,:],axis=0)]\n",
    "cov_sims=np.asarray(cov_sims)\n",
    "print(cov_sims.shape)"
   ]
  },
  {
   "cell_type": "code",
   "execution_count": 12,
   "metadata": {},
   "outputs": [
    {
     "name": "stdout",
     "output_type": "stream",
     "text": [
      "(50, 50)\n"
     ]
    }
   ],
   "source": [
    "# compute covariance from covariance sims\n",
    "Cov     = np.cov(cov_sims.T)\n",
    "print(Cov.shape)\n",
    "Cov_Inv = np.linalg.inv(Cov)"
   ]
  },
  {
   "cell_type": "code",
   "execution_count": null,
   "metadata": {},
   "outputs": [],
   "source": []
  },
  {
   "cell_type": "markdown",
   "metadata": {},
   "source": [
    "### Gaussian process interpolation of (precompressed) data"
   ]
  },
  {
   "cell_type": "code",
   "execution_count": 15,
   "metadata": {},
   "outputs": [
    {
     "name": "stdout",
     "output_type": "stream",
     "text": [
      "[ 1138.42002486  1469.66124082  1889.40683116  2309.38885349\n",
      "  2881.86950843  3423.69281552  4033.45091399  4690.73184215\n",
      "  5362.43512162  6095.29547546  6720.34284252  7447.84407129\n",
      "  8084.47660579  8652.30743162  9118.07844906  9554.76833191\n",
      "  9922.49888477 10197.86334077 10361.94714082 10498.99888351\n",
      " 10532.09936191 10430.5124175  10284.16101659 10106.91583584\n",
      "  9812.79444208  9503.69902239  9113.34980929  8685.32909935\n",
      "  8291.90627041  7890.91761783  7472.11775545  7037.16170718\n",
      "  6613.16034105  6212.56574178  5773.35391772  5396.16608532\n",
      "  5001.6399071   4690.25897818  4320.63696941  4028.64346355\n",
      "  3719.54804386  3402.80798986  3149.90457278  2919.77743726\n",
      "  2671.99671326  2461.09937947  2272.26903128  2097.93984506\n",
      "  1933.61961302  1770.32391959]\n",
      "[[-1.61318483e+02 -2.01797853e+02 -3.66206604e+02 -6.01548513e+02\n",
      "  -1.13108851e+03 -7.03854371e+02 -7.66683563e+02 -1.06900171e+03\n",
      "  -1.01929333e+03 -1.08678106e+03 -3.11396474e+01 -3.36113909e+02\n",
      "  -3.83901062e+02  7.59415939e+02  1.52699751e+01  3.26245590e+03\n",
      "   2.42160859e+03  2.94374553e+03  2.16662575e+03  2.04941808e+03\n",
      "   3.38682891e+03  2.67673848e+03  3.07527342e+03  1.65158566e+03\n",
      "   1.58116029e+03  1.37590367e+03  2.20075569e+03 -1.34441780e+02\n",
      "   2.22966939e+03  3.65971453e+02 -2.84724351e+02  8.44415764e+02\n",
      "  -1.81967117e+02 -1.44182981e+03  7.93614284e+01 -9.34202457e+02\n",
      "  -1.49082353e+03 -7.81485358e+02 -1.50068364e+03 -8.78727867e+01\n",
      "  -4.07123371e+02 -1.22555385e+03 -6.38999511e+02 -3.21398837e+02\n",
      "  -9.71570863e+02 -6.34577957e+02 -5.18084991e+02 -4.50648357e+02\n",
      "  -2.81846992e+02 -1.00298334e+03]\n",
      " [ 6.96637403e+03  9.46419199e+03  9.60827692e+03  1.20881835e+04\n",
      "   1.52560721e+04  1.56984173e+04  1.52112310e+04  1.52099088e+04\n",
      "   9.56842621e+03  2.23588865e+03 -3.69071901e+03 -8.39451042e+03\n",
      "  -2.10097638e+04 -2.48702724e+04 -3.67067310e+04 -5.37440527e+04\n",
      "  -5.36732041e+04 -7.11657332e+04 -6.76352333e+04 -7.40734806e+04\n",
      "  -7.94919710e+04 -7.32341821e+04 -7.40346572e+04 -6.60302134e+04\n",
      "  -6.21055006e+04 -5.60998599e+04 -4.45794493e+04 -3.09051916e+04\n",
      "  -2.74770315e+04 -2.21420154e+04 -1.66545256e+04 -5.87444713e+03\n",
      "  -3.70960829e+03  4.92814117e+03  8.08155758e+03  1.09953318e+04\n",
      "   1.39867889e+04  1.64528203e+04  1.49100720e+04  1.79001257e+04\n",
      "   1.47451811e+04  2.11440557e+04  1.70611284e+04  1.68898231e+04\n",
      "   1.52368869e+04  1.67412816e+04  1.56148824e+04  1.41621748e+04\n",
      "   1.35771457e+04  1.21196085e+04]\n",
      " [ 7.06270766e-01  9.73945460e+02  6.81409723e+02  1.01493270e+03\n",
      "   4.07892687e+02  1.69638137e+03 -3.49312835e+02  4.00963643e+02\n",
      "   1.27108635e+03  2.28135415e+03  2.19271040e+02 -4.29990386e+02\n",
      "   3.21155741e+02 -1.91009399e+03 -1.98096780e+03 -3.15669773e+03\n",
      "  -3.48219294e+03 -3.97767572e+03 -8.01389471e+03 -4.39900103e+03\n",
      "  -2.21838695e+03 -4.93209785e+03 -3.79698195e+03 -3.57016261e+03\n",
      "  -3.80627182e+03 -2.78673941e+03 -2.56897359e+03 -2.66992631e+03\n",
      "  -2.36150403e+03 -2.74680629e+03 -2.88162579e+02 -4.59508794e+02\n",
      "   3.12556323e+02  2.89079617e+02  2.29576978e+02  4.10657653e+02\n",
      "   6.17206929e+02  1.22164228e+03  1.66943989e+03  4.09064730e+02\n",
      "   1.48185940e+03  5.51810356e+02  9.75727186e+02  9.91645296e+02\n",
      "   9.82381881e+02  7.82079770e+02  7.11579192e+02  5.37658233e+02\n",
      "   6.80435907e+02  5.64080609e+02]]\n"
     ]
    }
   ],
   "source": [
    "from sklearn.gaussian_process import GaussianProcessRegressor\n",
    "from sklearn.gaussian_process.kernels import RBF, ConstantKernel as C\n",
    "\n",
    "\n",
    "kernel = C(1.0, (1e-4, 1e4)) * RBF(1, (1e-4, 1e4))\n",
    "#Instanciate a Gaussian Process model\n",
    "gp     = GaussianProcessRegressor(kernel=kernel, n_restarts_optimizer=10)\n",
    "\n",
    "\n",
    "#  fit the Gaussian process model on the mean of the (precompressed) data for each comsologyy\n",
    "means = np.zeros((num_c,50))\n",
    "for jj in range(averaged_all.shape[0]):\n",
    "    means[jj] = np.mean(averaged_all[jj],axis=0)\n",
    "print(means[-1])\n",
    "\n",
    "# fit \n",
    "gp.fit(PARAMS,means)\n",
    "\n",
    "#use the GP prediction to build the model\n",
    "def fitGP(theta):\n",
    "    pred, stdev = gp.predict(np.array(theta).reshape(1,3),return_std=True)\n",
    "    return pred.T\n",
    "\n",
    "# compute derivative of mean at fiducial model with finite differencing\n",
    "\n",
    "h      = 0.01\n",
    "\n",
    "theta1 = np.asarray([theta_fiducial[0]*(1+h), theta_fiducial[1],theta_fiducial[2]])\n",
    "theta1_= np.asarray([theta_fiducial[0]*(1-h), theta_fiducial[1],theta_fiducial[2]])\n",
    "\n",
    "theta2 = np.asarray([theta_fiducial[0], theta_fiducial[1]*(1+h),theta_fiducial[2]])\n",
    "theta2_= np.asarray([theta_fiducial[0], theta_fiducial[1]*(1-h),theta_fiducial[2]])\n",
    "\n",
    "theta3 = np.asarray([theta_fiducial[0], theta_fiducial[1],theta_fiducial[2]*(1+h)])\n",
    "theta3_= np.asarray([theta_fiducial[0], theta_fiducial[1],theta_fiducial[2]*(1-h)])\n",
    "\n",
    "dmudt1 = (fitGP(theta1)-fitGP(theta1_))/(theta1-theta1_)[0]\n",
    "dmudt2 = (fitGP(theta2)-fitGP(theta2_))/(theta2-theta2_)[1]\n",
    "dmudt3 = (fitGP(theta3)-fitGP(theta3_))/(theta3-theta3_)[2]\n",
    "\n",
    "# derivative\n",
    "dmudt = np.hstack((dmudt1,dmudt2,dmudt3)).T"
   ]
  },
  {
   "cell_type": "code",
   "execution_count": 16,
   "metadata": {},
   "outputs": [],
   "source": [
    "# set up scrore compression\n",
    "mu             = fitGP(theta_fiducial)[:,0]\n",
    "Cinv           = Cov_Inv\n",
    "\n",
    "\n",
    "Compressor     = score.Gaussian(len(mu), theta_fiducial, mu = mu, Cinv = Cinv, dmudt = dmudt)\n",
    "Compressor.compute_fisher()\n",
    "Finv           = Compressor.Finv\n",
    "\n",
    "def compressor(d, compressor_args):\n",
    "    return Compressor.scoreMLE(d)\n",
    "compressor_args=None"
   ]
  },
  {
   "cell_type": "code",
   "execution_count": 17,
   "metadata": {},
   "outputs": [
    {
     "name": "stdout",
     "output_type": "stream",
     "text": [
      "[[-1.61318483e+02 -2.01797853e+02 -3.66206604e+02 -6.01548513e+02\n",
      "  -1.13108851e+03 -7.03854371e+02 -7.66683563e+02 -1.06900171e+03\n",
      "  -1.01929333e+03 -1.08678106e+03 -3.11396474e+01 -3.36113909e+02\n",
      "  -3.83901062e+02  7.59415939e+02  1.52699751e+01  3.26245590e+03\n",
      "   2.42160859e+03  2.94374553e+03  2.16662575e+03  2.04941808e+03\n",
      "   3.38682891e+03  2.67673848e+03  3.07527342e+03  1.65158566e+03\n",
      "   1.58116029e+03  1.37590367e+03  2.20075569e+03 -1.34441780e+02\n",
      "   2.22966939e+03  3.65971453e+02 -2.84724351e+02  8.44415764e+02\n",
      "  -1.81967117e+02 -1.44182981e+03  7.93614284e+01 -9.34202457e+02\n",
      "  -1.49082353e+03 -7.81485358e+02 -1.50068364e+03 -8.78727867e+01\n",
      "  -4.07123371e+02 -1.22555385e+03 -6.38999511e+02 -3.21398837e+02\n",
      "  -9.71570863e+02 -6.34577957e+02 -5.18084991e+02 -4.50648357e+02\n",
      "  -2.81846992e+02 -1.00298334e+03]\n",
      " [ 6.96637403e+03  9.46419199e+03  9.60827692e+03  1.20881835e+04\n",
      "   1.52560721e+04  1.56984173e+04  1.52112310e+04  1.52099088e+04\n",
      "   9.56842621e+03  2.23588865e+03 -3.69071901e+03 -8.39451042e+03\n",
      "  -2.10097638e+04 -2.48702724e+04 -3.67067310e+04 -5.37440527e+04\n",
      "  -5.36732041e+04 -7.11657332e+04 -6.76352333e+04 -7.40734806e+04\n",
      "  -7.94919710e+04 -7.32341821e+04 -7.40346572e+04 -6.60302134e+04\n",
      "  -6.21055006e+04 -5.60998599e+04 -4.45794493e+04 -3.09051916e+04\n",
      "  -2.74770315e+04 -2.21420154e+04 -1.66545256e+04 -5.87444713e+03\n",
      "  -3.70960829e+03  4.92814117e+03  8.08155758e+03  1.09953318e+04\n",
      "   1.39867889e+04  1.64528203e+04  1.49100720e+04  1.79001257e+04\n",
      "   1.47451811e+04  2.11440557e+04  1.70611284e+04  1.68898231e+04\n",
      "   1.52368869e+04  1.67412816e+04  1.56148824e+04  1.41621748e+04\n",
      "   1.35771457e+04  1.21196085e+04]\n",
      " [ 7.06270766e-01  9.73945460e+02  6.81409723e+02  1.01493270e+03\n",
      "   4.07892687e+02  1.69638137e+03 -3.49312835e+02  4.00963643e+02\n",
      "   1.27108635e+03  2.28135415e+03  2.19271040e+02 -4.29990386e+02\n",
      "   3.21155741e+02 -1.91009399e+03 -1.98096780e+03 -3.15669773e+03\n",
      "  -3.48219294e+03 -3.97767572e+03 -8.01389471e+03 -4.39900103e+03\n",
      "  -2.21838695e+03 -4.93209785e+03 -3.79698195e+03 -3.57016261e+03\n",
      "  -3.80627182e+03 -2.78673941e+03 -2.56897359e+03 -2.66992631e+03\n",
      "  -2.36150403e+03 -2.74680629e+03 -2.88162579e+02 -4.59508794e+02\n",
      "   3.12556323e+02  2.89079617e+02  2.29576978e+02  4.10657653e+02\n",
      "   6.17206929e+02  1.22164228e+03  1.66943989e+03  4.09064730e+02\n",
      "   1.48185940e+03  5.51810356e+02  9.75727186e+02  9.91645296e+02\n",
      "   9.82381881e+02  7.82079770e+02  7.11579192e+02  5.37658233e+02\n",
      "   6.80435907e+02  5.64080609e+02]]\n"
     ]
    }
   ],
   "source": [
    "print(dmudt)"
   ]
  },
  {
   "cell_type": "code",
   "execution_count": 18,
   "metadata": {},
   "outputs": [
    {
     "name": "stdout",
     "output_type": "stream",
     "text": [
      "[0.1 0.3 2.1] (0.09999, 0.2978, 2.1)\n"
     ]
    }
   ],
   "source": [
    "# we wanna split our sims in tarining data and observations\n",
    "# we use the fiducial model as the observations (real data) and the rest for training\n",
    "\n",
    "ordered_params=[]\n",
    "averaged_data =[]\n",
    "averaged_train=[]\n",
    "\n",
    "\n",
    "for ii in range(len(data_sim)):\n",
    "    if ii==index:\n",
    "        par = PARAMS[ii]\n",
    "        print(theta_fiducial,par)\n",
    "        for jj in range(np.int((data_sim.shape[1])/101)):\n",
    "            averaged_data+=[np.mean(data_sim[ii,jj*101:(jj+1)*101,:],axis=0)]\n",
    "    else:\n",
    "         for jj in range(np.int((data_sim.shape[1])/101)):\n",
    "            averaged_train+=[np.mean(data_sim[ii,jj*101:(jj+1)*101,:],axis=0)]\n",
    "            ordered_params+=[PARAMS[ii]]\n",
    "    \n",
    "averaged_data  = np.asarray(averaged_data)\n",
    "averaged_train = np.asarray(averaged_train)\n",
    "ordered_params = np.asarray(ordered_params)"
   ]
  },
  {
   "cell_type": "code",
   "execution_count": 19,
   "metadata": {},
   "outputs": [
    {
     "name": "stdout",
     "output_type": "stream",
     "text": [
      "(99, 50) (9900, 50) (9900, 3)\n",
      "[  460.33308171   530.5533823   1178.14059894  1412.2082676\n",
      "  1880.34360493  2722.98721212  3003.86841452  3955.74360042\n",
      "  5118.27968811  6234.00224208  7178.07517235  8699.51501867\n",
      "  9479.74058088 10517.44057862 11461.5135089  12413.3886948\n",
      " 13661.74959434 14005.04884171 14293.73229973 14473.18417904\n",
      " 14964.72628323 14886.70372701 14761.86763706 14465.38192342\n",
      " 13560.32027125 13045.37140019 11625.36087696 11211.84132899\n",
      " 10369.1977218   9159.84810037  8902.37366484  8083.13682452\n",
      "  7006.42554867  6608.51051194  5570.8105142   4665.74886203\n",
      "  4611.13307267  4228.82254719  3971.34811166  3339.36540627\n",
      "  2941.45036954  2527.93082157  2527.93082157  2161.22480733\n",
      "  1607.26465816  1529.24210194  1404.40601198  1123.52480959\n",
      "   834.84135157   905.06165217] [  959.67744152  1459.02180134  1833.5300712   2496.72179908\n",
      "  3027.27518138  3635.85111991  4416.07668212  5219.7090112\n",
      "  5703.44885977  5859.49397221  6858.18269185  7583.7924647\n",
      "  8223.57742572  8707.31727429  8847.75787549  9768.4240389\n",
      " 10205.35035374 10166.33907563 10322.38418807 10759.31050291\n",
      " 10478.42930051 10735.90373604 10314.58193245  9885.45787323\n",
      " 10267.76839871  9113.03456664  9175.45261162  8683.91050742\n",
      "  8223.57742572  7739.83757715  7747.63983277  7349.72479604\n",
      "  6499.27893323  6226.19998645  5492.78795797  5328.94058991\n",
      "  4915.42104194  4720.36465138  4033.76615664  4018.16164539\n",
      "  3542.22405244  3464.20149622  3081.89097074  2879.03232456\n",
      "  2371.88570913  2434.3037541   2247.04961917  2020.78420613\n",
      "  1927.15713866  1919.35488304]\n"
     ]
    }
   ],
   "source": [
    "print(averaged_data.shape,averaged_train.shape, ordered_params.shape)\n",
    "print(averaged_data[-1,:], averaged_train[-1,:])"
   ]
  },
  {
   "cell_type": "code",
   "execution_count": 20,
   "metadata": {},
   "outputs": [],
   "source": [
    "# compress all the (precompressed data) with compressor\n",
    "compressed_data = np.zeros((averaged_data.shape[0],3))\n",
    "\n",
    "for ii in range(len(averaged_data)):\n",
    "    compressed_data[ii] = compressor(averaged_data[ii],None)\n",
    "    \n",
    "compressed_train = np.zeros((averaged_train.shape[0],3))\n",
    "\n",
    "for ii in range(len(averaged_train)):\n",
    "    compressed_train[ii] = compressor(averaged_train[ii],None)"
   ]
  },
  {
   "cell_type": "markdown",
   "metadata": {},
   "source": [
    "  "
   ]
  },
  {
   "cell_type": "code",
   "execution_count": 21,
   "metadata": {},
   "outputs": [
    {
     "name": "stdout",
     "output_type": "stream",
     "text": [
      "(99, 3) (9900, 3) (9900, 3)\n"
     ]
    }
   ],
   "source": [
    "print(compressed_data.shape,compressed_train.shape,ordered_params.shape)"
   ]
  },
  {
   "cell_type": "markdown",
   "metadata": {},
   "source": [
    "### NDE estimation"
   ]
  },
  {
   "cell_type": "code",
   "execution_count": 27,
   "metadata": {},
   "outputs": [],
   "source": [
    "# set up priors\n",
    "lower = np.array([np.min(params[:,0]),np.min(params[:,1]),np.min(params[:,2])])\n",
    "upper = np.array([np.max(params[:,0]),np.max(params[:,1]),np.max(params[:,2])])\n",
    "prior = priors.Uniform(lower, upper)"
   ]
  },
  {
   "cell_type": "code",
   "execution_count": null,
   "metadata": {},
   "outputs": [],
   "source": []
  },
  {
   "cell_type": "code",
   "execution_count": 36,
   "metadata": {},
   "outputs": [],
   "source": [
    "# NDEs you wanna train\n",
    "NDEs = [ndes.ConditionalMaskedAutoregressiveFlow(n_parameters=3, n_data=3, n_hiddens=[50,50], n_mades=5, act_fun=tf.tanh, index=5)]"
   ]
  },
  {
   "cell_type": "code",
   "execution_count": 37,
   "metadata": {},
   "outputs": [],
   "source": [
    "# at this point you can load any precompressed  (training) data\n",
    "# data = np.load('./compressedSims.npy')\n",
    "# ordered_params_Will = data[0]\n",
    "# compressed_train_Will = data[1]\n",
    "# compressed_data_Will = data[2]\n",
    "\n",
    "DelfiEnsemble = delfi.Delfi(compressed_data[0], prior, NDEs, \n",
    "                            Finv = Finv, \n",
    "                            theta_fiducial = theta_fiducial, \n",
    "                            param_limits = [lower, upper],\n",
    "                            param_names = [r'M_\\nu', '\\Omega_m', 'A_s'], \n",
    "                            results_dir = \"./\",\n",
    "                            input_normalization=\"fisher\")"
   ]
  },
  {
   "cell_type": "code",
   "execution_count": 38,
   "metadata": {},
   "outputs": [],
   "source": [
    "DelfiEnsemble.load_simulations(compressed_train,ordered_params)"
   ]
  },
  {
   "cell_type": "code",
   "execution_count": 39,
   "metadata": {},
   "outputs": [
    {
     "data": {
      "application/vnd.jupyter.widget-view+json": {
       "model_id": "9ab6c71ac327495895120332aba8272e",
       "version_major": 2,
       "version_minor": 0
      },
      "text/plain": [
       "HBox(children=(IntProgress(value=0, description='Training', max=300, style=ProgressStyle(description_width='in…"
      ]
     },
     "metadata": {},
     "output_type": "display_data"
    }
   ],
   "source": [
    "DelfiEnsemble.fisher_pretraining()"
   ]
  },
  {
   "cell_type": "code",
   "execution_count": null,
   "metadata": {},
   "outputs": [],
   "source": []
  },
  {
   "cell_type": "code",
   "execution_count": 40,
   "metadata": {},
   "outputs": [
    {
     "data": {
      "application/vnd.jupyter.widget-view+json": {
       "model_id": "e0704dc824df4b67a4ff1f909449ec11",
       "version_major": 2,
       "version_minor": 0
      },
      "text/plain": [
       "HBox(children=(IntProgress(value=0, description='Training', max=500, style=ProgressStyle(description_width='in…"
      ]
     },
     "metadata": {},
     "output_type": "display_data"
    }
   ],
   "source": [
    "DelfiEnsemble.train_ndes()"
   ]
  },
  {
   "cell_type": "code",
   "execution_count": 41,
   "metadata": {},
   "outputs": [
    {
     "name": "stderr",
     "output_type": "stream",
     "text": [
      "/home/nessa/Documents/Projects/pydelfi/delfi/delfi.py:184: RuntimeWarning: divide by zero encountered in log\n",
      "  lnL = np.log(L)\n"
     ]
    }
   ],
   "source": [
    "posterior_samples = DelfiEnsemble.emcee_sample()"
   ]
  },
  {
   "cell_type": "code",
   "execution_count": 42,
   "metadata": {},
   "outputs": [
    {
     "name": "stdout",
     "output_type": "stream",
     "text": [
      "Removed no burn in\n"
     ]
    },
    {
     "data": {
      "image/png": "[encoded data removed]",
      "text/plain": [
       "<Figure size 864x864 with 6 Axes>"
      ]
     },
     "metadata": {},
     "output_type": "display_data"
    }
   ],
   "source": [
    "DelfiEnsemble.triangle_plot(samples=[posterior_samples])"
   ]
  },
  {
   "cell_type": "code",
   "execution_count": null,
   "metadata": {},
   "outputs": [],
   "source": []
  },
  {
   "cell_type": "code",
   "execution_count": null,
   "metadata": {},
   "outputs": [],
   "source": []
  }
 ],
 "metadata": {
  "anaconda-cloud": {},
  "kernelspec": {
   "display_name": "Python Pytorch",
   "language": "python",
   "name": "py3torch"
  },
  "language_info": {
   "codemirror_mode": {
    "name": "ipython",
    "version": 3
   },
   "file_extension": ".py",
   "mimetype": "text/x-python",
   "name": "python",
   "nbconvert_exporter": "python",
   "pygments_lexer": "ipython3",
   "version": "3.6.8"
  }
 },
 "nbformat": 4,
 "nbformat_minor": 1
}
