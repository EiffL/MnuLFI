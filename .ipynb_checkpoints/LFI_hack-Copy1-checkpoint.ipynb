{
 "cells": [
  {
   "cell_type": "code",
   "execution_count": 1,
   "metadata": {},
   "outputs": [],
   "source": [
    "import numpy as np"
   ]
  },
  {
   "cell_type": "code",
   "execution_count": 2,
   "metadata": {},
   "outputs": [],
   "source": [
    "fn       = np.loadtxt('MassiveNuS_params.txt',usecols=[0],dtype=np.str)\n",
    "params   = np.loadtxt('MassiveNuS_params.txt',usecols=[1,2,3])## M_nu,Omega_m,A_s*1e9\n",
    "data_sim = np.array([np.load('%s_Peaks_KN_s2.00_z1.00_ng40.00_b050.npy'%(ifn))[2:] for ifn in fn])"
   ]
  },
  {
   "cell_type": "code",
   "execution_count": 3,
   "metadata": {},
   "outputs": [],
   "source": [
    "def paramsFromName(fn):\n",
    "    Om=float(fn.split('Om')[1].split('_')[0])\n",
    "    As=float(fn.split('As')[1].split('_')[0])\n",
    "    mnv=float(fn.split('mva')[1].split('_')[0])\n",
    "    mnv+=float(fn.split('mvb')[1].split('_')[0])\n",
    "    mnv+=float(fn.split('mvc')[1].split('_')[0])\n",
    "    return mnv,Om,As\n",
    "\n",
    "\n",
    "PARAMS = [paramsFromName(f) for f in fn]"
   ]
  },
  {
   "cell_type": "code",
   "execution_count": 4,
   "metadata": {},
   "outputs": [
    {
     "name": "stdout",
     "output_type": "stream",
     "text": [
      "(101, 3)\n",
      "(101, 9999, 50)\n"
     ]
    }
   ],
   "source": [
    "print(params.shape)\n",
    "print(data_sim.shape)"
   ]
  },
  {
   "cell_type": "code",
   "execution_count": 5,
   "metadata": {},
   "outputs": [],
   "source": [
    "params_fid = params[51]\n",
    "theta_fiducial = params_fid"
   ]
  },
  {
   "cell_type": "code",
   "execution_count": 6,
   "metadata": {},
   "outputs": [],
   "source": [
    "bin_centers = np.linspace(-1.92,5.92, 50)"
   ]
  },
  {
   "cell_type": "code",
   "execution_count": 7,
   "metadata": {},
   "outputs": [
    {
     "data": {
      "text/plain": [
       "array([0.16, 0.16, 0.16, 0.16, 0.16, 0.16, 0.16, 0.16, 0.16, 0.16, 0.16,\n",
       "       0.16, 0.16, 0.16, 0.16, 0.16, 0.16, 0.16, 0.16, 0.16, 0.16, 0.16,\n",
       "       0.16, 0.16, 0.16, 0.16, 0.16, 0.16, 0.16, 0.16, 0.16, 0.16, 0.16,\n",
       "       0.16, 0.16, 0.16, 0.16, 0.16, 0.16, 0.16, 0.16, 0.16, 0.16, 0.16,\n",
       "       0.16, 0.16, 0.16, 0.16, 0.16])"
      ]
     },
     "execution_count": 7,
     "metadata": {},
     "output_type": "execute_result"
    }
   ],
   "source": [
    "np.diff(bin_centers)"
   ]
  },
  {
   "cell_type": "code",
   "execution_count": 8,
   "metadata": {},
   "outputs": [
    {
     "data": {
      "text/plain": [
       "array([ 0.,  0.,  1.,  0.,  0.,  2.,  1.,  3.,  4.,  1., 10., 16., 12.,\n",
       "       21., 20., 27., 38., 47., 49., 36., 26., 27., 20., 31., 24., 27.,\n",
       "       22., 15.,  8., 18., 10.,  5.,  5.,  3.,  4.,  2.,  1.,  0.,  1.,\n",
       "        0.,  0.,  0.,  0.,  0.,  0.,  0.,  0.,  0.,  0.,  0.])"
      ]
     },
     "execution_count": 8,
     "metadata": {},
     "output_type": "execute_result"
    }
   ],
   "source": [
    "data_sim[0,0]*0.00126899073531"
   ]
  },
  {
   "cell_type": "code",
   "execution_count": 9,
   "metadata": {},
   "outputs": [],
   "source": [
    "means = np.mean(data_sim,axis=1)"
   ]
  },
  {
   "cell_type": "code",
   "execution_count": 10,
   "metadata": {},
   "outputs": [],
   "source": [
    "std  = np.std(data_sim[0,:,:],axis=0)"
   ]
  },
  {
   "cell_type": "code",
   "execution_count": null,
   "metadata": {},
   "outputs": [],
   "source": []
  },
  {
   "cell_type": "code",
   "execution_count": 11,
   "metadata": {},
   "outputs": [],
   "source": [
    "import sys"
   ]
  },
  {
   "cell_type": "code",
   "execution_count": 12,
   "metadata": {},
   "outputs": [],
   "source": [
    "sys.path.append(\"/home/nessa/Documents/Projects/pydelfi/\") "
   ]
  },
  {
   "cell_type": "code",
   "execution_count": 13,
   "metadata": {},
   "outputs": [],
   "source": [
    "import numpy as np\n",
    "import ndes.ndes as ndes\n",
    "import delfi.delfi as delfi\n",
    "import compression.score.score as score\n",
    "import distributions.priors as priors\n",
    "import tensorflow as tf\n",
    "tf.logging.set_verbosity(tf.logging.ERROR)\n",
    "%matplotlib inline"
   ]
  },
  {
   "cell_type": "code",
   "execution_count": 14,
   "metadata": {},
   "outputs": [],
   "source": [
    "from sklearn.gaussian_process import GaussianProcessRegressor\n",
    "from sklearn.gaussian_process.kernels import RBF, ConstantKernel as C\n",
    "\n",
    "\n",
    "kernel = C(1.0, (1e-4, 1e4)) * RBF(1, (1e-4, 1e4))\n",
    "#Instanciate a Gaussian Process model\n",
    "gp = GaussianProcessRegressor(kernel=kernel, n_restarts_optimizer=10)\n",
    "# Fit to data \n",
    "\n",
    "gp.fit(PARAMS,means)\n",
    "#use the GP prediction to build the model\n",
    "def fitGP(theta):\n",
    "    pred, stdev = gp.predict(np.array(theta).reshape(1,3),return_std=True)\n",
    "    return pred.T\n",
    "\n",
    "h=0.01\n",
    "\n",
    "theta1 = np.asarray([theta_fiducial[0]*(1+h), theta_fiducial[1],theta_fiducial[2]])\n",
    "theta1_= np.asarray([theta_fiducial[0]*(1-h), theta_fiducial[1],theta_fiducial[2]])\n",
    "\n",
    "theta2 = np.asarray([theta_fiducial[0], theta_fiducial[1]*(1+h),theta_fiducial[2]])\n",
    "theta2_= np.asarray([theta_fiducial[0], theta_fiducial[1]*(1-h),theta_fiducial[2]])\n",
    "\n",
    "theta3 = np.asarray([theta_fiducial[0], theta_fiducial[1],theta_fiducial[2]*(1+h)])\n",
    "theta3_= np.asarray([theta_fiducial[0], theta_fiducial[1],theta_fiducial[2]*(1-h)])\n",
    "\n",
    "dmudt1 = (fitGP(theta1)-fitGP(theta1_))/(theta1-theta1_)[0]\n",
    "dmudt2 = (fitGP(theta2)-fitGP(theta2_))/(theta2-theta2_)[1]\n",
    "dmudt3 = (fitGP(theta3)-fitGP(theta3_))/(theta3-theta3_)[2]"
   ]
  },
  {
   "cell_type": "code",
   "execution_count": 15,
   "metadata": {},
   "outputs": [],
   "source": [
    "dmudt = np.hstack((dmudt1,dmudt2,dmudt3)).T"
   ]
  },
  {
   "cell_type": "code",
   "execution_count": 16,
   "metadata": {},
   "outputs": [
    {
     "data": {
      "text/plain": [
       "array([0.1, 0.3, 2.1])"
      ]
     },
     "execution_count": 16,
     "metadata": {},
     "output_type": "execute_result"
    }
   ],
   "source": [
    "theta_fiducial"
   ]
  },
  {
   "cell_type": "code",
   "execution_count": 17,
   "metadata": {},
   "outputs": [],
   "source": [
    "fid_index = 51"
   ]
  },
  {
   "cell_type": "code",
   "execution_count": 18,
   "metadata": {},
   "outputs": [],
   "source": [
    "realizations_4_cov = np.load('Peaks_KN_s2.00_z1.00_ng40.00_b050.npy')"
   ]
  },
  {
   "cell_type": "code",
   "execution_count": 19,
   "metadata": {},
   "outputs": [],
   "source": [
    "Cov     = np.cov(realizations_4_cov.T)\n",
    "Cov_Inv = np.linalg.inv(Cov)\n",
    "\n",
    "diag = np.diag(Cov)\n",
    "\n",
    "diag1= np.expand_dims(diag,1)\n",
    "diag2= np.expand_dims(diag,0)"
   ]
  },
  {
   "cell_type": "code",
   "execution_count": 20,
   "metadata": {},
   "outputs": [],
   "source": [
    "# plt.imshow(Cov_Inv)\n",
    "# plt.colorbar()\n",
    "# plt.show()\n",
    "# plt.imshow(Cov)\n",
    "# plt.colorbar()\n",
    "# plt.show()\n",
    "# plt.imshow(Cov/np.sqrt(diag1*diag2))\n",
    "# plt.colorbar()\n",
    "# plt.show()"
   ]
  },
  {
   "cell_type": "code",
   "execution_count": 21,
   "metadata": {},
   "outputs": [],
   "source": [
    "theta_fiducial = np.array(params_fid)\n",
    "mu             = np.mean(data_sim[51,:,:],axis=0)\n",
    "Cinv           = Cov_Inv\n",
    "\n",
    "Compressor     = score.Gaussian(len(mu), theta_fiducial, mu = mu, Cinv = Cinv, dmudt = dmudt)\n",
    "Compressor.compute_fisher()\n",
    "Finv           = Compressor.Finv\n",
    "\n",
    "def compressor(d, compressor_args):\n",
    "    return Compressor.scoreMLE(d)\n",
    "compressor_args=None"
   ]
  },
  {
   "cell_type": "code",
   "execution_count": 22,
   "metadata": {},
   "outputs": [
    {
     "name": "stdout",
     "output_type": "stream",
     "text": [
      "(0.09999, 0.2978, 2.1)\n"
     ]
    }
   ],
   "source": [
    "ordered_params=[]\n",
    "averaged_data =[]\n",
    "averaged_train=[]\n",
    "for ii in range(len(data_sim)):\n",
    "    if ii==51:\n",
    "        par = PARAMS[ii]\n",
    "        print(par)\n",
    "        for jj in range(np.int((data_sim.shape[1]+1)/100)):\n",
    "            averaged_data+=[np.mean(data_sim[ii,jj*100:(jj+1)*100,:],axis=0)]\n",
    "    else:\n",
    "         for jj in range(np.int((data_sim.shape[1]+1)/100)):\n",
    "            averaged_train+=[np.mean(data_sim[ii,jj*100:(jj+1)*100,:],axis=0)]\n",
    "            ordered_params+=[PARAMS[ii]]\n",
    "    \n",
    "averaged_data = np.asarray(averaged_data)\n",
    "averaged_train = np.asarray(averaged_train)\n",
    "ordered_params=np.asarray(ordered_params)"
   ]
  },
  {
   "cell_type": "code",
   "execution_count": null,
   "metadata": {},
   "outputs": [],
   "source": []
  },
  {
   "cell_type": "code",
   "execution_count": 24,
   "metadata": {},
   "outputs": [
    {
     "name": "stdout",
     "output_type": "stream",
     "text": [
      "53\n"
     ]
    },
    {
     "data": {
      "text/plain": [
       "(0.09999, 0.2978, 2.1)"
      ]
     },
     "execution_count": 24,
     "metadata": {},
     "output_type": "execute_result"
    }
   ],
   "source": [
    "for ii in range(len(PARAMS)):\n",
    "    if PARAMS[ii][0]==0.0:\n",
    "        print(ii)\n",
    "        \n",
    "PARAMS[51]"
   ]
  },
  {
   "cell_type": "code",
   "execution_count": 25,
   "metadata": {},
   "outputs": [],
   "source": [
    "compressed_data = np.zeros((averaged_data.shape[0],3))\n",
    "\n",
    "for ii in range(len(averaged_data)):\n",
    "    compressed_data[ii] = compressor(averaged_data[ii],None)\n",
    "    \n",
    "compressed_train = np.zeros((averaged_train.shape[0],3))\n",
    "\n",
    "for ii in range(len(averaged_train)):\n",
    "    compressed_train[ii] = compressor(averaged_train[ii],None)"
   ]
  },
  {
   "cell_type": "code",
   "execution_count": 25,
   "metadata": {},
   "outputs": [
    {
     "name": "stdout",
     "output_type": "stream",
     "text": [
      "(100, 3) (10000, 3) (10000, 3)\n"
     ]
    }
   ],
   "source": [
    "print(compressed_data.shape,compressed_train.shape,ordered_params.shape)"
   ]
  },
  {
   "cell_type": "code",
   "execution_count": 31,
   "metadata": {},
   "outputs": [
    {
     "name": "stdout",
     "output_type": "stream",
     "text": [
      "-0.05962746169972041 0.8297654969888292\n",
      "0.22564694916547995 0.4051094289261724\n",
      "1.6504816589056257 2.301905567250327\n"
     ]
    }
   ],
   "source": [
    "print(compressed_train[:,0].min(),compressed_train[:,0].max())\n",
    "print(compressed_train[:,1].min(),compressed_train[:,1].max())\n",
    "print(compressed_train[:,2].min(),compressed_train[:,2].max())"
   ]
  },
  {
   "cell_type": "code",
   "execution_count": 26,
   "metadata": {},
   "outputs": [],
   "source": [
    "lower = np.array([np.min(params[:,0]),np.min(params[:,1]),np.min(params[:,2])])\n",
    "upper = np.array([np.max(params[:,0]),np.max(params[:,1]),np.max(params[:,2])])\n",
    "# upper = np.array([1, 1.2, 0.1, 1.0, 1.3])\n",
    "prior = priors.Uniform(lower, upper)"
   ]
  },
  {
   "cell_type": "code",
   "execution_count": 32,
   "metadata": {},
   "outputs": [],
   "source": [
    "NDEs = [ndes.MixtureDensityNetwork(n_parameters=3, n_data=3, n_components=1, n_hidden=[30,30], activations=[tf.tanh, tf.tanh], index=0),\n",
    "       ndes.MixtureDensityNetwork(n_parameters=3, n_data=3, n_components=2, n_hidden=[30,30], activations=[tf.tanh, tf.tanh], index=1),\n",
    "       ndes.MixtureDensityNetwork(n_parameters=3, n_data=3, n_components=3, n_hidden=[30,30], activations=[tf.tanh, tf.tanh], index=2),\n",
    "       ndes.MixtureDensityNetwork(n_parameters=3, n_data=3, n_components=4, n_hidden=[30,30], activations=[tf.tanh, tf.tanh], index=3),\n",
    "       ndes.MixtureDensityNetwork(n_parameters=3, n_data=3, n_components=5, n_hidden=[30,30], activations=[tf.tanh, tf.tanh], index=4),\n",
    "       ndes.ConditionalMaskedAutoregressiveFlow(n_parameters=3, n_data=3, n_hiddens=[50,50], n_mades=5, act_fun=tf.tanh, index=5)]"
   ]
  },
  {
   "cell_type": "code",
   "execution_count": 28,
   "metadata": {},
   "outputs": [],
   "source": [
    "DelfiEnsemble = delfi.Delfi(compressed_data[0], prior, NDEs, \n",
    "                            Finv = Finv, \n",
    "                            theta_fiducial = theta_fiducial, \n",
    "                            param_limits = [lower, upper],\n",
    "                            param_names = ['M_\\nu', '\\Omega_m', 'A_s'], \n",
    "                            results_dir = \"./\",\n",
    "                            input_normalization=\"fisher\")"
   ]
  },
  {
   "cell_type": "code",
   "execution_count": 29,
   "metadata": {},
   "outputs": [],
   "source": [
    "DelfiEnsemble.load_simulations(compressed_train,ordered_params)"
   ]
  },
  {
   "cell_type": "code",
   "execution_count": null,
   "metadata": {},
   "outputs": [
    {
     "data": {
      "application/vnd.jupyter.widget-view+json": {
       "model_id": "4efdbad026b74b28ac2a560e2f2c94d5",
       "version_major": 2,
       "version_minor": 0
      },
      "text/plain": [
       "HBox(children=(IntProgress(value=0, description='Training', max=300, style=ProgressStyle(description_width='in…"
      ]
     },
     "metadata": {},
     "output_type": "display_data"
    }
   ],
   "source": [
    "DelfiEnsemble.fisher_pretraining()"
   ]
  },
  {
   "cell_type": "code",
   "execution_count": null,
   "metadata": {},
   "outputs": [],
   "source": []
  },
  {
   "cell_type": "code",
   "execution_count": null,
   "metadata": {},
   "outputs": [
    {
     "data": {
      "application/vnd.jupyter.widget-view+json": {
       "model_id": "9b88b281a106471e90a3c3882e6d9be4",
       "version_major": 2,
       "version_minor": 0
      },
      "text/plain": [
       "HBox(children=(IntProgress(value=0, description='Training', max=500, style=ProgressStyle(description_width='in…"
      ]
     },
     "metadata": {},
     "output_type": "display_data"
    }
   ],
   "source": [
    "DelfiEnsemble.train_ndes()"
   ]
  },
  {
   "cell_type": "code",
   "execution_count": null,
   "metadata": {},
   "outputs": [],
   "source": [
    "posterior_samples = DelfiEnsemble.emcee_sample()"
   ]
  }
 ],
 "metadata": {
  "anaconda-cloud": {},
  "kernelspec": {
   "display_name": "Python Pytorch",
   "language": "python",
   "name": "py3torch"
  },
  "language_info": {
   "codemirror_mode": {
    "name": "ipython",
    "version": 3
   },
   "file_extension": ".py",
   "mimetype": "text/x-python",
   "name": "python",
   "nbconvert_exporter": "python",
   "pygments_lexer": "ipython3",
   "version": "3.6.8"
  }
 },
 "nbformat": 4,
 "nbformat_minor": 1
}
