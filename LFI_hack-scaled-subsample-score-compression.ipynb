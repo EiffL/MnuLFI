{
 "cells": [
  {
   "cell_type": "markdown",
   "metadata": {},
   "source": [
    "# Score compression of rescaled data (subsamples) with subsequent neural density estimation"
   ]
  },
  {
   "cell_type": "code",
   "execution_count": 1,
   "metadata": {},
   "outputs": [],
   "source": [
    "import numpy as np\n",
    "import sys\n",
    "# load your pydelfi version here (not necessary to include path if you have pip installed)\n",
    "sys.path.append(\"/home/nessa/Documents/Projects/pydelfi/\") \n",
    "import ndes.ndes as ndes\n",
    "import delfi.delfi as delfi\n",
    "import compression.score.score as score\n",
    "import distributions.priors as priors\n",
    "import tensorflow as tf\n",
    "tf.logging.set_verbosity(tf.logging.ERROR)\n",
    "%matplotlib inline"
   ]
  },
  {
   "cell_type": "markdown",
   "metadata": {},
   "source": [
    "### load the data"
   ]
  },
  {
   "cell_type": "code",
   "execution_count": 2,
   "metadata": {},
   "outputs": [],
   "source": [
    "# load data (note that order of params is not the same as data_sim)\n",
    "data_scaled        = np.load('./data/data_scaled.npy')\n",
    "data_scaled_full   = np.load('./data/data_scaled.full.npy')\n",
    "data_scaled_cosmos = np.load('./data/params_conc.npy')\n",
    "data_scaled_cosmos_full = np.load('./data/params_conc.full.npy')\n",
    "\n",
    "covariance = np.load('./data/covariance.npy')"
   ]
  },
  {
   "cell_type": "code",
   "execution_count": 3,
   "metadata": {},
   "outputs": [
    {
     "data": {
      "text/plain": [
       "(10100, 50)"
      ]
     },
     "execution_count": 3,
     "metadata": {},
     "output_type": "execute_result"
    }
   ],
   "source": [
    "data_scaled.shape"
   ]
  },
  {
   "cell_type": "code",
   "execution_count": 4,
   "metadata": {},
   "outputs": [
    {
     "name": "stdout",
     "output_type": "stream",
     "text": [
      "[0.1 0.3 2.1]\n"
     ]
    }
   ],
   "source": [
    "# fiducial parameters (for compression)\n",
    "index   = 51\n",
    "index_0 = 53\n",
    "theta_fiducial = data_scaled_cosmos_full[index]\n",
    "print(theta_fiducial)\n"
   ]
  },
  {
   "cell_type": "code",
   "execution_count": 5,
   "metadata": {},
   "outputs": [],
   "source": [
    "theta_cov = data_scaled_cosmos_full[index_0]"
   ]
  },
  {
   "cell_type": "markdown",
   "metadata": {},
   "source": [
    "### Covariance Matrix"
   ]
  },
  {
   "cell_type": "code",
   "execution_count": 6,
   "metadata": {},
   "outputs": [],
   "source": [
    "# compute covariance from covariance sims\n",
    "Cov_Inv = np.linalg.inv(covariance)"
   ]
  },
  {
   "cell_type": "code",
   "execution_count": null,
   "metadata": {},
   "outputs": [],
   "source": []
  },
  {
   "cell_type": "markdown",
   "metadata": {},
   "source": [
    "### Gaussian process interpolation of (precompressed) data"
   ]
  },
  {
   "cell_type": "code",
   "execution_count": 7,
   "metadata": {},
   "outputs": [],
   "source": [
    "from sklearn.gaussian_process import GaussianProcessRegressor\n",
    "from sklearn.gaussian_process.kernels import RBF, ConstantKernel as C\n",
    "\n",
    "\n",
    "kernel = C(1.0, (1e-4, 1e4)) * RBF(1, (1e-4, 1e4))\n",
    "#Instanciate a Gaussian Process model\n",
    "gp     = GaussianProcessRegressor(kernel=kernel, n_restarts_optimizer=10)\n",
    "\n",
    "\n",
    "# fit on averages of full rescaled set\n",
    "gp.fit(data_scaled_cosmos_full,data_scaled_full)\n",
    "\n",
    "#use the GP prediction to build the model\n",
    "def fitGP(theta):\n",
    "    pred, stdev = gp.predict(np.array(theta).reshape(1,3),return_std=True)\n",
    "    return pred.T\n",
    "\n",
    "# compute derivative of mean at fiducial model with finite differencing\n",
    "\n",
    "h      = 0.01\n",
    "\n",
    "theta1 = np.asarray([theta_fiducial[0]*(1+h), theta_fiducial[1],theta_fiducial[2]])\n",
    "theta1_= np.asarray([theta_fiducial[0]*(1-h), theta_fiducial[1],theta_fiducial[2]])\n",
    "\n",
    "theta2 = np.asarray([theta_fiducial[0], theta_fiducial[1]*(1+h),theta_fiducial[2]])\n",
    "theta2_= np.asarray([theta_fiducial[0], theta_fiducial[1]*(1-h),theta_fiducial[2]])\n",
    "\n",
    "theta3 = np.asarray([theta_fiducial[0], theta_fiducial[1],theta_fiducial[2]*(1+h)])\n",
    "theta3_= np.asarray([theta_fiducial[0], theta_fiducial[1],theta_fiducial[2]*(1-h)])\n",
    "\n",
    "dmudt1 = (fitGP(theta1)-fitGP(theta1_))/(theta1-theta1_)[0]\n",
    "dmudt2 = (fitGP(theta2)-fitGP(theta2_))/(theta2-theta2_)[1]\n",
    "dmudt3 = (fitGP(theta3)-fitGP(theta3_))/(theta3-theta3_)[2]\n",
    "\n",
    "# derivative\n",
    "dmudt = np.hstack((dmudt1,dmudt2,dmudt3)).T"
   ]
  },
  {
   "cell_type": "code",
   "execution_count": 8,
   "metadata": {},
   "outputs": [
    {
     "name": "stderr",
     "output_type": "stream",
     "text": [
      "/home/nessa/miniconda2/envs/py3torch/lib/python3.6/site-packages/sklearn/gaussian_process/gpr.py:357: UserWarning: Predicted variances smaller than 0. Setting those variances to 0.\n",
      "  warnings.warn(\"Predicted variances smaller than 0. \"\n"
     ]
    }
   ],
   "source": [
    "# set up scrore compression\n",
    "mu             = fitGP(theta_fiducial)[:,0]\n",
    "Cinv           = Cov_Inv\n",
    "\n",
    "\n",
    "Compressor     = score.Gaussian(len(mu), theta_fiducial, mu = mu, Cinv = Cinv, dmudt = dmudt)\n",
    "Compressor.compute_fisher()\n",
    "Finv           = Compressor.Finv\n",
    "\n",
    "def compressor(d, compressor_args):\n",
    "    return Compressor.scoreMLE(d)\n",
    "compressor_args=None"
   ]
  },
  {
   "cell_type": "code",
   "execution_count": 9,
   "metadata": {},
   "outputs": [
    {
     "name": "stdout",
     "output_type": "stream",
     "text": [
      "[[-2.72682934e+02 -4.71195341e+02 -6.42995058e+02 -9.62919493e+02\n",
      "  -1.41649941e+03 -1.18779527e+03 -1.00374614e+03 -1.48568119e+03\n",
      "  -1.37401458e+03 -1.26440712e+03 -6.98955957e+01 -4.93841282e+01\n",
      "   1.17071760e+02  1.51716041e+03  1.04991894e+03  4.68832542e+03\n",
      "   4.20764236e+03  4.96445403e+03  4.17861312e+03  4.16340772e+03\n",
      "   5.50731381e+03  4.62079310e+03  5.06053445e+03  3.59664106e+03\n",
      "   3.05866133e+03  2.77886745e+03  3.39388679e+03  8.28777024e+02\n",
      "   2.88783673e+03  8.83308227e+02  1.67746001e+02  1.03581926e+03\n",
      "  -3.15588491e+02 -1.57928022e+03 -1.67801974e+02 -1.30339478e+03\n",
      "  -1.89796122e+03 -1.28076689e+03 -2.01318654e+03 -5.00279933e+02\n",
      "  -9.45159323e+02 -1.67793661e+03 -1.08845829e+03 -7.81504601e+02\n",
      "  -1.40226596e+03 -9.82106533e+02 -8.57388420e+02 -7.66056058e+02\n",
      "  -6.20697566e+02 -1.30142668e+03]\n",
      " [ 6.88851083e+03  9.40667986e+03  9.56561955e+03  1.20485989e+04\n",
      "   1.53294712e+04  1.58265048e+04  1.55156401e+04  1.53533592e+04\n",
      "   1.01188756e+04  2.78593312e+03 -3.01460300e+03 -7.97173711e+03\n",
      "  -2.06460855e+04 -2.44225378e+04 -3.67651806e+04 -5.35025857e+04\n",
      "  -5.38370106e+04 -7.17016184e+04 -6.86714715e+04 -7.50201784e+04\n",
      "  -8.07430429e+04 -7.40556477e+04 -7.49726383e+04 -6.65407946e+04\n",
      "  -6.32472571e+04 -5.66131337e+04 -4.45761038e+04 -3.09632876e+04\n",
      "  -2.78098141e+04 -2.16120270e+04 -1.62254451e+04 -5.21740391e+03\n",
      "  -3.04150487e+03  5.25903421e+03  8.74332917e+03  1.14117766e+04\n",
      "   1.45281417e+04  1.69460930e+04  1.53165055e+04  1.83540964e+04\n",
      "   1.51552624e+04  2.13347437e+04  1.73400926e+04  1.70561490e+04\n",
      "   1.53356273e+04  1.68350257e+04  1.56948174e+04  1.42579750e+04\n",
      "   1.35075099e+04  1.21201149e+04]\n",
      " [ 7.06695106e+00  9.65309108e+02  7.09111380e+02  1.03775515e+03\n",
      "   4.10941922e+02  1.66670853e+03 -3.09574716e+02  3.76969795e+02\n",
      "   1.31628571e+03  2.30969608e+03  3.41128307e+02 -4.62864746e+02\n",
      "   3.31281577e+02 -2.00834143e+03 -2.07477102e+03 -3.10140107e+03\n",
      "  -3.63923890e+03 -3.96299620e+03 -8.18866537e+03 -4.50316751e+03\n",
      "  -2.36883990e+03 -5.00253318e+03 -3.94133733e+03 -3.59287238e+03\n",
      "  -3.91850528e+03 -2.77146751e+03 -2.59073239e+03 -2.76531305e+03\n",
      "  -2.45684876e+03 -2.70673568e+03 -2.05193454e+02 -4.54783935e+02\n",
      "   3.67196764e+02  2.81813842e+02  2.95859269e+02  4.09860254e+02\n",
      "   6.61761584e+02  1.25075055e+03  1.78095217e+03  3.94638714e+02\n",
      "   1.59361786e+03  5.24535221e+02  1.02691574e+03  1.00363535e+03\n",
      "   1.00100234e+03  7.48340951e+02  7.23374360e+02  5.45460576e+02\n",
      "   6.88669419e+02  5.79305903e+02]]\n"
     ]
    }
   ],
   "source": [
    "print(dmudt)"
   ]
  },
  {
   "cell_type": "code",
   "execution_count": 10,
   "metadata": {},
   "outputs": [
    {
     "name": "stdout",
     "output_type": "stream",
     "text": [
      "(101, 100, 3)\n"
     ]
    }
   ],
   "source": [
    "# compress all the (precompressed data) with compressor\n",
    "compressed_train = np.zeros((data_scaled.shape[0],3))\n",
    "compressed_train = np.reshape(compressed_train,newshape=(101,100,3))\n",
    "data_scaled_c    = np.reshape(data_scaled_cosmos,newshape=(101,100,3))\n",
    "data_scaled_= np.reshape(data_scaled,newshape=(101,100,50))\n",
    "# loop over cosmologies\n",
    "for ii in range(compressed_train.shape[0]):\n",
    "    for jj in range(compressed_train.shape[1]):\n",
    "        compressed_train[ii][jj] = compressor(data_scaled_[ii][jj],None)\n",
    "print(compressed_train.shape)"
   ]
  },
  {
   "cell_type": "markdown",
   "metadata": {},
   "source": [
    "  "
   ]
  },
  {
   "cell_type": "code",
   "execution_count": 11,
   "metadata": {},
   "outputs": [
    {
     "name": "stdout",
     "output_type": "stream",
     "text": [
      "51\n",
      "(51, 100, 3)\n",
      "(51, 100, 3)\n"
     ]
    },
    {
     "data": {
      "text/plain": [
       "((100, 100, 3), (100, 3))"
      ]
     },
     "execution_count": 11,
     "metadata": {},
     "output_type": "execute_result"
    }
   ],
   "source": [
    "print(index)\n",
    "compressed_train1=compressed_train[0:index,:,:]\n",
    "print(compressed_train1.shape)\n",
    "compressed_train2=compressed_train[index+1:,:,:]\n",
    "compressed_data  =compressed_train[index,:,:]\n",
    "compressed_train_= np.concatenate((compressed_train1,compressed_train2))\n",
    "compressed_train_.shape, compressed_data.shape\n",
    "\n",
    "data_scaled_c1=data_scaled_c[0:index,:,:]\n",
    "print(compressed_train1.shape)\n",
    "data_scaled_c2=data_scaled_c[index+1:,:,:]\n",
    "data_scaled_c_data  =data_scaled_c[index,:,:]\n",
    "data_scaled_c_= np.concatenate((data_scaled_c1,data_scaled_c2))\n",
    "data_scaled_c_.shape, data_scaled_c_data.shape\n",
    "#print(data_scaled_c_data)"
   ]
  },
  {
   "cell_type": "code",
   "execution_count": 12,
   "metadata": {},
   "outputs": [],
   "source": [
    "compressed_train_=np.reshape(compressed_train_,newshape=(-1,3))\n",
    "data_scaled_c_=np.reshape(data_scaled_c_,newshape=(-1,3))"
   ]
  },
  {
   "cell_type": "markdown",
   "metadata": {},
   "source": [
    "### NDE estimation"
   ]
  },
  {
   "cell_type": "code",
   "execution_count": 13,
   "metadata": {},
   "outputs": [
    {
     "name": "stdout",
     "output_type": "stream",
     "text": [
      "[0.62036 0.4159  2.9114 ] [0.     0.1841 1.2886]\n"
     ]
    }
   ],
   "source": [
    "# set up priors\n",
    "lower = np.array([np.min(data_scaled_cosmos[:,0]),np.min(data_scaled_cosmos[:,1]),np.min(data_scaled_cosmos[:,2])])\n",
    "upper = np.array([np.max(data_scaled_cosmos[:,0]),np.max(data_scaled_cosmos[:,1]),np.max(data_scaled_cosmos[:,2])])\n",
    "print(upper, lower)\n",
    "prior = priors.Uniform(lower, upper)"
   ]
  },
  {
   "cell_type": "code",
   "execution_count": null,
   "metadata": {},
   "outputs": [],
   "source": []
  },
  {
   "cell_type": "code",
   "execution_count": 14,
   "metadata": {},
   "outputs": [],
   "source": [
    "# NDEs you wanna train\n",
    "NDEs = [ndes.ConditionalMaskedAutoregressiveFlow(n_parameters=3, n_data=3, n_hiddens=[50,50], n_mades=5, act_fun=tf.tanh, index=5),\n",
    "        ndes.MixtureDensityNetwork(n_parameters=3, n_data=3, n_components=1, n_hidden=[30,30], activations=[tf.tanh, tf.tanh], index=1),\n",
    "        ndes.MixtureDensityNetwork(n_parameters=3, n_data=3, n_components=2, n_hidden=[30,30], activations=[tf.tanh, tf.tanh], index=2),\n",
    "        ndes.MixtureDensityNetwork(n_parameters=3, n_data=3, n_components=3, n_hidden=[30,30], activations=[tf.tanh, tf.tanh], index=3),\n",
    "        ndes.MixtureDensityNetwork(n_parameters=3, n_data=3, n_components=4, n_hidden=[30,30], activations=[tf.tanh, tf.tanh], index=4),\n",
    "        ndes.MixtureDensityNetwork(n_parameters=3, n_data=3, n_components=5, n_hidden=[30,30], activations=[tf.tanh, tf.tanh], index=5)]"
   ]
  },
  {
   "cell_type": "code",
   "execution_count": 15,
   "metadata": {},
   "outputs": [],
   "source": [
    "DelfiEnsemble = delfi.Delfi(compressed_data[0], prior, NDEs, \n",
    "                            Finv = Finv, \n",
    "                            theta_fiducial = theta_fiducial, \n",
    "                            param_limits = [lower, upper],\n",
    "                            param_names = ['M_\\nu', '\\Omega_m', 'A_s'], \n",
    "                            results_dir = \"./\",\n",
    "                            input_normalization=\"fisher\")"
   ]
  },
  {
   "cell_type": "code",
   "execution_count": 16,
   "metadata": {},
   "outputs": [],
   "source": [
    "DelfiEnsemble.load_simulations(compressed_train_,data_scaled_c_)"
   ]
  },
  {
   "cell_type": "code",
   "execution_count": 17,
   "metadata": {},
   "outputs": [
    {
     "data": {
      "application/vnd.jupyter.widget-view+json": {
       "model_id": "47cac227549d44408e2a43b01ef05501",
       "version_major": 2,
       "version_minor": 0
      },
      "text/plain": [
       "HBox(children=(IntProgress(value=0, description='Training', max=300, style=ProgressStyle(description_width='in…"
      ]
     },
     "metadata": {},
     "output_type": "display_data"
    },
    {
     "data": {
      "application/vnd.jupyter.widget-view+json": {
       "model_id": "0888428231c24889bd525ba1c647dea5",
       "version_major": 2,
       "version_minor": 0
      },
      "text/plain": [
       "HBox(children=(IntProgress(value=0, description='Training', max=300, style=ProgressStyle(description_width='in…"
      ]
     },
     "metadata": {},
     "output_type": "display_data"
    },
    {
     "data": {
      "application/vnd.jupyter.widget-view+json": {
       "model_id": "f9b0844ebbe140e99d8cafb874a3703f",
       "version_major": 2,
       "version_minor": 0
      },
      "text/plain": [
       "HBox(children=(IntProgress(value=0, description='Training', max=300, style=ProgressStyle(description_width='in…"
      ]
     },
     "metadata": {},
     "output_type": "display_data"
    },
    {
     "data": {
      "application/vnd.jupyter.widget-view+json": {
       "model_id": "29893262393440aea8c0e36d39d3eb54",
       "version_major": 2,
       "version_minor": 0
      },
      "text/plain": [
       "HBox(children=(IntProgress(value=0, description='Training', max=300, style=ProgressStyle(description_width='in…"
      ]
     },
     "metadata": {},
     "output_type": "display_data"
    },
    {
     "data": {
      "application/vnd.jupyter.widget-view+json": {
       "model_id": "6ab11f47eadf477792e07672fe9074a6",
       "version_major": 2,
       "version_minor": 0
      },
      "text/plain": [
       "HBox(children=(IntProgress(value=0, description='Training', max=300, style=ProgressStyle(description_width='in…"
      ]
     },
     "metadata": {},
     "output_type": "display_data"
    },
    {
     "data": {
      "application/vnd.jupyter.widget-view+json": {
       "model_id": "fd66523c1cb640c699d03c78563305c7",
       "version_major": 2,
       "version_minor": 0
      },
      "text/plain": [
       "HBox(children=(IntProgress(value=0, description='Training', max=300, style=ProgressStyle(description_width='in…"
      ]
     },
     "metadata": {},
     "output_type": "display_data"
    }
   ],
   "source": [
    "DelfiEnsemble.fisher_pretraining()"
   ]
  },
  {
   "cell_type": "code",
   "execution_count": null,
   "metadata": {},
   "outputs": [],
   "source": []
  },
  {
   "cell_type": "code",
   "execution_count": 18,
   "metadata": {},
   "outputs": [
    {
     "data": {
      "application/vnd.jupyter.widget-view+json": {
       "model_id": "c64a1fbbf4c34040ab1fe0320f659607",
       "version_major": 2,
       "version_minor": 0
      },
      "text/plain": [
       "HBox(children=(IntProgress(value=0, description='Training', max=500, style=ProgressStyle(description_width='in…"
      ]
     },
     "metadata": {},
     "output_type": "display_data"
    },
    {
     "data": {
      "application/vnd.jupyter.widget-view+json": {
       "model_id": "c6bace95c97c44c6b7687cf6a350692a",
       "version_major": 2,
       "version_minor": 0
      },
      "text/plain": [
       "HBox(children=(IntProgress(value=0, description='Training', max=500, style=ProgressStyle(description_width='in…"
      ]
     },
     "metadata": {},
     "output_type": "display_data"
    },
    {
     "data": {
      "application/vnd.jupyter.widget-view+json": {
       "model_id": "10a8f854503f4c8f8c93ebc1e9057c6e",
       "version_major": 2,
       "version_minor": 0
      },
      "text/plain": [
       "HBox(children=(IntProgress(value=0, description='Training', max=500, style=ProgressStyle(description_width='in…"
      ]
     },
     "metadata": {},
     "output_type": "display_data"
    },
    {
     "data": {
      "application/vnd.jupyter.widget-view+json": {
       "model_id": "cda31d64f01b445c9231e4bc05ed5905",
       "version_major": 2,
       "version_minor": 0
      },
      "text/plain": [
       "HBox(children=(IntProgress(value=0, description='Training', max=500, style=ProgressStyle(description_width='in…"
      ]
     },
     "metadata": {},
     "output_type": "display_data"
    },
    {
     "data": {
      "application/vnd.jupyter.widget-view+json": {
       "model_id": "70ba0f2b8e82497bbbbf23b76603e469",
       "version_major": 2,
       "version_minor": 0
      },
      "text/plain": [
       "HBox(children=(IntProgress(value=0, description='Training', max=500, style=ProgressStyle(description_width='in…"
      ]
     },
     "metadata": {},
     "output_type": "display_data"
    },
    {
     "data": {
      "application/vnd.jupyter.widget-view+json": {
       "model_id": "9f3a1c3008bd488689a49b303798cae5",
       "version_major": 2,
       "version_minor": 0
      },
      "text/plain": [
       "HBox(children=(IntProgress(value=0, description='Training', max=500, style=ProgressStyle(description_width='in…"
      ]
     },
     "metadata": {},
     "output_type": "display_data"
    }
   ],
   "source": [
    "DelfiEnsemble.train_ndes()"
   ]
  },
  {
   "cell_type": "code",
   "execution_count": 19,
   "metadata": {},
   "outputs": [],
   "source": [
    "posterior_samples = DelfiEnsemble.emcee_sample()"
   ]
  },
  {
   "cell_type": "code",
   "execution_count": 20,
   "metadata": {},
   "outputs": [
    {
     "name": "stdout",
     "output_type": "stream",
     "text": [
      "Removed no burn in\n"
     ]
    },
    {
     "data": {
      "image/png": "[encoded data removed]",
      "text/plain": [
       "<Figure size 864x864 with 6 Axes>"
      ]
     },
     "metadata": {},
     "output_type": "display_data"
    }
   ],
   "source": [
    "DelfiEnsemble.triangle_plot(samples=[posterior_samples])"
   ]
  },
  {
   "cell_type": "code",
   "execution_count": null,
   "metadata": {},
   "outputs": [],
   "source": []
  },
  {
   "cell_type": "code",
   "execution_count": null,
   "metadata": {},
   "outputs": [],
   "source": []
  }
 ],
 "metadata": {
  "anaconda-cloud": {},
  "kernelspec": {
   "display_name": "Python Pytorch",
   "language": "python",
   "name": "py3torch"
  },
  "language_info": {
   "codemirror_mode": {
    "name": "ipython",
    "version": 3
   },
   "file_extension": ".py",
   "mimetype": "text/x-python",
   "name": "python",
   "nbconvert_exporter": "python",
   "pygments_lexer": "ipython3",
   "version": "3.6.8"
  }
 },
 "nbformat": 4,
 "nbformat_minor": 1
}
