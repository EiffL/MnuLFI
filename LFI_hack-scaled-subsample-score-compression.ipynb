{
 "cells": [
  {
   "cell_type": "markdown",
   "metadata": {},
   "source": [
    "# Score compression of resacled data (subsamples) with susequent neural density estimation"
   ]
  },
  {
   "cell_type": "code",
   "execution_count": 1,
   "metadata": {},
   "outputs": [],
   "source": [
    "import numpy as np\n",
    "import sys\n",
    "# load your pydelfi version here (not necessary to include path if you have pip installed)\n",
    "sys.path.append(\"/home/nessa/Documents/Projects/pydelfi/\") \n",
    "import ndes.ndes as ndes\n",
    "import delfi.delfi as delfi\n",
    "import compression.score.score as score\n",
    "import distributions.priors as priors\n",
    "import tensorflow as tf\n",
    "tf.logging.set_verbosity(tf.logging.ERROR)\n",
    "%matplotlib inline"
   ]
  },
  {
   "cell_type": "markdown",
   "metadata": {},
   "source": [
    "### load the data"
   ]
  },
  {
   "cell_type": "code",
   "execution_count": 2,
   "metadata": {},
   "outputs": [],
   "source": [
    "# load data (note that order of params is not the same as data_sim)\n",
    "data_scaled        = np.load('./data/data_scaled.npy')\n",
    "data_scaled_full   = np.load('./data/data_scaled.full.npy')\n",
    "data_scaled_cosmos = np.load('./data/params_conc.npy')\n",
    "data_scaled_cosmos_full = np.load('./data/params_conc.full.npy')\n",
    "\n",
    "covariance = np.load('./data/covariance.npy')"
   ]
  },
  {
   "cell_type": "code",
   "execution_count": 3,
   "metadata": {},
   "outputs": [
    {
     "data": {
      "text/plain": [
       "(10100, 50)"
      ]
     },
     "execution_count": 3,
     "metadata": {},
     "output_type": "execute_result"
    }
   ],
   "source": [
    "data_scaled.shape"
   ]
  },
  {
   "cell_type": "code",
   "execution_count": 4,
   "metadata": {},
   "outputs": [
    {
     "name": "stdout",
     "output_type": "stream",
     "text": [
      "[0.1 0.3 2.1]\n"
     ]
    }
   ],
   "source": [
    "# fiducial parameters (for compression)\n",
    "index   = 51\n",
    "index_0 = 53\n",
    "theta_fiducial = data_scaled_cosmos_full[index]\n",
    "print(theta_fiducial)\n"
   ]
  },
  {
   "cell_type": "code",
   "execution_count": 5,
   "metadata": {},
   "outputs": [],
   "source": [
    "theta_cov = data_scaled_cosmos_full[index_0]"
   ]
  },
  {
   "cell_type": "markdown",
   "metadata": {},
   "source": [
    "### Covariance Matrix"
   ]
  },
  {
   "cell_type": "code",
   "execution_count": 6,
   "metadata": {},
   "outputs": [],
   "source": [
    "# compute covariance from covariance sims\n",
    "Cov_Inv = np.linalg.inv(covariance)"
   ]
  },
  {
   "cell_type": "code",
   "execution_count": null,
   "metadata": {},
   "outputs": [],
   "source": []
  },
  {
   "cell_type": "markdown",
   "metadata": {},
   "source": [
    "### Gaussian process interpolation of (precompressed) data"
   ]
  },
  {
   "cell_type": "code",
   "execution_count": 7,
   "metadata": {},
   "outputs": [],
   "source": [
    "from sklearn.gaussian_process import GaussianProcessRegressor\n",
    "from sklearn.gaussian_process.kernels import RBF, ConstantKernel as C\n",
    "\n",
    "\n",
    "kernel = C(1.0, (1e-4, 1e4)) * RBF(1, (1e-4, 1e4))\n",
    "#Instanciate a Gaussian Process model\n",
    "gp     = GaussianProcessRegressor(kernel=kernel, n_restarts_optimizer=10)\n",
    "\n",
    "\n",
    "# fit on averages of full rescaled set\n",
    "gp.fit(data_scaled_cosmos_full,data_scaled_full)\n",
    "\n",
    "#use the GP prediction to build the model\n",
    "def fitGP(theta):\n",
    "    pred, stdev = gp.predict(np.array(theta).reshape(1,3),return_std=True)\n",
    "    return pred.T\n",
    "\n",
    "# compute derivative of mean at fiducial model with finite differencing\n",
    "\n",
    "h      = 0.01\n",
    "\n",
    "theta1 = np.asarray([theta_fiducial[0]*(1+h), theta_fiducial[1],theta_fiducial[2]])\n",
    "theta1_= np.asarray([theta_fiducial[0]*(1-h), theta_fiducial[1],theta_fiducial[2]])\n",
    "\n",
    "theta2 = np.asarray([theta_fiducial[0], theta_fiducial[1]*(1+h),theta_fiducial[2]])\n",
    "theta2_= np.asarray([theta_fiducial[0], theta_fiducial[1]*(1-h),theta_fiducial[2]])\n",
    "\n",
    "theta3 = np.asarray([theta_fiducial[0], theta_fiducial[1],theta_fiducial[2]*(1+h)])\n",
    "theta3_= np.asarray([theta_fiducial[0], theta_fiducial[1],theta_fiducial[2]*(1-h)])\n",
    "\n",
    "dmudt1 = (fitGP(theta1)-fitGP(theta1_))/(theta1-theta1_)[0]\n",
    "dmudt2 = (fitGP(theta2)-fitGP(theta2_))/(theta2-theta2_)[1]\n",
    "dmudt3 = (fitGP(theta3)-fitGP(theta3_))/(theta3-theta3_)[2]\n",
    "\n",
    "# derivative\n",
    "dmudt = np.hstack((dmudt1,dmudt2,dmudt3)).T"
   ]
  },
  {
   "cell_type": "code",
   "execution_count": 8,
   "metadata": {},
   "outputs": [],
   "source": [
    "# set up scrore compression\n",
    "mu             = fitGP(theta_fiducial)[:,0]\n",
    "Cinv           = Cov_Inv\n",
    "\n",
    "\n",
    "Compressor     = score.Gaussian(len(mu), theta_fiducial, mu = mu, Cinv = Cinv, dmudt = dmudt)\n",
    "Compressor.compute_fisher()\n",
    "Finv           = Compressor.Finv\n",
    "\n",
    "def compressor(d, compressor_args):\n",
    "    return Compressor.scoreMLE(d)\n",
    "compressor_args=None"
   ]
  },
  {
   "cell_type": "code",
   "execution_count": 9,
   "metadata": {},
   "outputs": [
    {
     "name": "stdout",
     "output_type": "stream",
     "text": [
      "[[-2.72682904e+02 -4.71195337e+02 -6.42995053e+02 -9.62919488e+02\n",
      "  -1.41649937e+03 -1.18779523e+03 -1.00374606e+03 -1.48568111e+03\n",
      "  -1.37401455e+03 -1.26440707e+03 -6.98955492e+01 -4.93839911e+01\n",
      "   1.17071807e+02  1.51716058e+03  1.04991903e+03  4.68832550e+03\n",
      "   4.20764255e+03  4.96445407e+03  4.17861326e+03  4.16340779e+03\n",
      "   5.50731379e+03  4.62079312e+03  5.06053448e+03  3.59664111e+03\n",
      "   3.05866130e+03  2.77886743e+03  3.39388683e+03  8.28777131e+02\n",
      "   2.88783680e+03  8.83308290e+02  1.67746051e+02  1.03581937e+03\n",
      "  -3.15588465e+02 -1.57928018e+03 -1.67801908e+02 -1.30339473e+03\n",
      "  -1.89796118e+03 -1.28076685e+03 -2.01318654e+03 -5.00279846e+02\n",
      "  -9.45159323e+02 -1.67793654e+03 -1.08845826e+03 -7.81504569e+02\n",
      "  -1.40226593e+03 -9.82106477e+02 -8.57388386e+02 -7.66056028e+02\n",
      "  -6.20697548e+02 -1.30142668e+03]\n",
      " [ 6.88851081e+03  9.40667985e+03  9.56561951e+03  1.20485989e+04\n",
      "   1.53294712e+04  1.58265047e+04  1.55156402e+04  1.53533592e+04\n",
      "   1.01188756e+04  2.78593312e+03 -3.01460307e+03 -7.97173700e+03\n",
      "  -2.06460855e+04 -2.44225377e+04 -3.67651802e+04 -5.35025857e+04\n",
      "  -5.38370103e+04 -7.17016182e+04 -6.86714713e+04 -7.50201781e+04\n",
      "  -8.07430425e+04 -7.40556474e+04 -7.49726380e+04 -6.65407943e+04\n",
      "  -6.32472568e+04 -5.66131335e+04 -4.45761037e+04 -3.09632874e+04\n",
      "  -2.78098140e+04 -2.16120271e+04 -1.62254450e+04 -5.21740396e+03\n",
      "  -3.04150490e+03  5.25903425e+03  8.74332911e+03  1.14117766e+04\n",
      "   1.45281417e+04  1.69460930e+04  1.53165055e+04  1.83540963e+04\n",
      "   1.51552623e+04  2.13347437e+04  1.73400926e+04  1.70561490e+04\n",
      "   1.53356273e+04  1.68350257e+04  1.56948175e+04  1.42579750e+04\n",
      "   1.35075099e+04  1.21201149e+04]\n",
      " [ 7.06694781e+00  9.65309107e+02  7.09111364e+02  1.03775514e+03\n",
      "   4.10941925e+02  1.66670853e+03 -3.09574729e+02  3.76969803e+02\n",
      "   1.31628569e+03  2.30969604e+03  3.41128286e+02 -4.62864741e+02\n",
      "   3.31281558e+02 -2.00834139e+03 -2.07477100e+03 -3.10140110e+03\n",
      "  -3.63923887e+03 -3.96299623e+03 -8.18866531e+03 -4.50316752e+03\n",
      "  -2.36883991e+03 -5.00253317e+03 -3.94133730e+03 -3.59287238e+03\n",
      "  -3.91850528e+03 -2.77146754e+03 -2.59073238e+03 -2.76531299e+03\n",
      "  -2.45684874e+03 -2.70673568e+03 -2.05193477e+02 -4.54783933e+02\n",
      "   3.67196777e+02  2.81813863e+02  2.95859275e+02  4.09860268e+02\n",
      "   6.61761595e+02  1.25075055e+03  1.78095216e+03  3.94638743e+02\n",
      "   1.59361783e+03  5.24535238e+02  1.02691575e+03  1.00363536e+03\n",
      "   1.00100234e+03  7.48340968e+02  7.23374367e+02  5.45460588e+02\n",
      "   6.88669419e+02  5.79305900e+02]]\n"
     ]
    }
   ],
   "source": [
    "print(dmudt)"
   ]
  },
  {
   "cell_type": "code",
   "execution_count": 10,
   "metadata": {},
   "outputs": [
    {
     "name": "stdout",
     "output_type": "stream",
     "text": [
      "(101, 100, 3)\n"
     ]
    }
   ],
   "source": [
    "# compress all the (precompressed data) with compressor\n",
    "compressed_train = np.zeros((data_scaled.shape[0],3))\n",
    "compressed_train = np.reshape(compressed_train,newshape=(101,100,3))\n",
    "data_scaled_c    = np.reshape(data_scaled_cosmos,newshape=(101,100,3))\n",
    "data_scaled_= np.reshape(data_scaled,newshape=(101,100,50))\n",
    "# loop over cosmologies\n",
    "for ii in range(compressed_train.shape[0]):\n",
    "    for jj in range(compressed_train.shape[1]):\n",
    "        compressed_train[ii][jj] = compressor(data_scaled_[ii][jj],None)\n",
    "print(compressed_train.shape)"
   ]
  },
  {
   "cell_type": "markdown",
   "metadata": {},
   "source": [
    "  "
   ]
  },
  {
   "cell_type": "code",
   "execution_count": 11,
   "metadata": {},
   "outputs": [
    {
     "name": "stdout",
     "output_type": "stream",
     "text": [
      "51\n",
      "(51, 100, 3)\n",
      "(51, 100, 3)\n"
     ]
    },
    {
     "data": {
      "text/plain": [
       "((100, 100, 3), (100, 3))"
      ]
     },
     "execution_count": 11,
     "metadata": {},
     "output_type": "execute_result"
    }
   ],
   "source": [
    "print(index)\n",
    "compressed_train1=compressed_train[0:index,:,:]\n",
    "print(compressed_train1.shape)\n",
    "compressed_train2=compressed_train[index+1:,:,:]\n",
    "compressed_data  =compressed_train[index,:,:]\n",
    "compressed_train_= np.concatenate((compressed_train1,compressed_train2))\n",
    "compressed_train_.shape, compressed_data.shape\n",
    "\n",
    "data_scaled_c1=data_scaled_c[0:index,:,:]\n",
    "print(compressed_train1.shape)\n",
    "data_scaled_c2=data_scaled_c[index+1:,:,:]\n",
    "data_scaled_c_data  =data_scaled_c[index,:,:]\n",
    "data_scaled_c_= np.concatenate((data_scaled_c1,data_scaled_c2))\n",
    "data_scaled_c_.shape, data_scaled_c_data.shape\n",
    "#print(data_scaled_c_data)"
   ]
  },
  {
   "cell_type": "code",
   "execution_count": 12,
   "metadata": {},
   "outputs": [],
   "source": [
    "compressed_train_=np.reshape(compressed_train_,newshape=(-1,3))\n",
    "data_scaled_c_=np.reshape(data_scaled_c_,newshape=(-1,3))"
   ]
  },
  {
   "cell_type": "markdown",
   "metadata": {},
   "source": [
    "### NDE estimation"
   ]
  },
  {
   "cell_type": "code",
   "execution_count": 13,
   "metadata": {},
   "outputs": [
    {
     "name": "stdout",
     "output_type": "stream",
     "text": [
      "[0.62036 0.4159  2.9114 ] [0.     0.1841 1.2886]\n"
     ]
    }
   ],
   "source": [
    "# set up priors\n",
    "lower = np.array([np.min(data_scaled_cosmos[:,0]),np.min(data_scaled_cosmos[:,1]),np.min(data_scaled_cosmos[:,2])])\n",
    "upper = np.array([np.max(data_scaled_cosmos[:,0]),np.max(data_scaled_cosmos[:,1]),np.max(data_scaled_cosmos[:,2])])\n",
    "print(upper, lower)\n",
    "prior = priors.Uniform(lower, upper)"
   ]
  },
  {
   "cell_type": "code",
   "execution_count": null,
   "metadata": {},
   "outputs": [],
   "source": []
  },
  {
   "cell_type": "code",
   "execution_count": 14,
   "metadata": {},
   "outputs": [],
   "source": [
    "# NDEs you wanna train\n",
    "NDEs = [ndes.ConditionalMaskedAutoregressiveFlow(n_parameters=3, n_data=3, n_hiddens=[50,50], n_mades=5, act_fun=tf.tanh, index=5)]"
   ]
  },
  {
   "cell_type": "code",
   "execution_count": 15,
   "metadata": {},
   "outputs": [],
   "source": [
    "DelfiEnsemble = delfi.Delfi(compressed_data[0], prior, NDEs, \n",
    "                            Finv = Finv, \n",
    "                            theta_fiducial = theta_fiducial, \n",
    "                            param_limits = [lower, upper],\n",
    "                            param_names = ['M_\\nu', '\\Omega_m', 'A_s'], \n",
    "                            results_dir = \"./\",\n",
    "                            input_normalization=\"fisher\")"
   ]
  },
  {
   "cell_type": "code",
   "execution_count": 16,
   "metadata": {},
   "outputs": [],
   "source": [
    "DelfiEnsemble.load_simulations(compressed_train_,data_scaled_c_)"
   ]
  },
  {
   "cell_type": "code",
   "execution_count": 17,
   "metadata": {},
   "outputs": [
    {
     "data": {
      "application/vnd.jupyter.widget-view+json": {
       "model_id": "234223d478074d9da8490fa79f8fc470",
       "version_major": 2,
       "version_minor": 0
      },
      "text/plain": [
       "HBox(children=(IntProgress(value=0, description='Training', max=300, style=ProgressStyle(description_width='in…"
      ]
     },
     "metadata": {},
     "output_type": "display_data"
    }
   ],
   "source": [
    "DelfiEnsemble.fisher_pretraining()"
   ]
  },
  {
   "cell_type": "code",
   "execution_count": null,
   "metadata": {},
   "outputs": [],
   "source": []
  },
  {
   "cell_type": "code",
   "execution_count": 18,
   "metadata": {},
   "outputs": [
    {
     "data": {
      "application/vnd.jupyter.widget-view+json": {
       "model_id": "d25bde6ae9e14615802297ae9fb8e95b",
       "version_major": 2,
       "version_minor": 0
      },
      "text/plain": [
       "HBox(children=(IntProgress(value=0, description='Training', max=500, style=ProgressStyle(description_width='in…"
      ]
     },
     "metadata": {},
     "output_type": "display_data"
    }
   ],
   "source": [
    "DelfiEnsemble.train_ndes()"
   ]
  },
  {
   "cell_type": "code",
   "execution_count": 19,
   "metadata": {},
   "outputs": [
    {
     "name": "stderr",
     "output_type": "stream",
     "text": [
      "/home/nessa/Documents/Projects/pydelfi/delfi/delfi.py:184: RuntimeWarning: divide by zero encountered in log\n",
      "  lnL = np.log(L)\n"
     ]
    }
   ],
   "source": [
    "posterior_samples = DelfiEnsemble.emcee_sample()"
   ]
  },
  {
   "cell_type": "code",
   "execution_count": 20,
   "metadata": {},
   "outputs": [
    {
     "name": "stdout",
     "output_type": "stream",
     "text": [
      "Removed no burn in\n"
     ]
    },
    {
     "data": {
      "image/png": "[encoded data removed]",
      "text/plain": [
       "<Figure size 864x864 with 6 Axes>"
      ]
     },
     "metadata": {},
     "output_type": "display_data"
    }
   ],
   "source": [
    "DelfiEnsemble.triangle_plot(samples=[posterior_samples])"
   ]
  },
  {
   "cell_type": "code",
   "execution_count": null,
   "metadata": {},
   "outputs": [],
   "source": []
  },
  {
   "cell_type": "code",
   "execution_count": null,
   "metadata": {},
   "outputs": [],
   "source": []
  }
 ],
 "metadata": {
  "anaconda-cloud": {},
  "kernelspec": {
   "display_name": "Python Pytorch",
   "language": "python",
   "name": "py3torch"
  },
  "language_info": {
   "codemirror_mode": {
    "name": "ipython",
    "version": 3
   },
   "file_extension": ".py",
   "mimetype": "text/x-python",
   "name": "python",
   "nbconvert_exporter": "python",
   "pygments_lexer": "ipython3",
   "version": "3.6.8"
  }
 },
 "nbformat": 4,
 "nbformat_minor": 1
}
